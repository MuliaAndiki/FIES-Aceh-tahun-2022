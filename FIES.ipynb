{
 "cells": [
  {
   "cell_type": "markdown",
   "id": "37b21775",
   "metadata": {},
   "source": [
    "## 📊 Analisis FIES Aceh 2022 - Laporan Data Mining"
   ]
  },
  {
   "cell_type": "markdown",
   "id": "2ced5680",
   "metadata": {},
   "source": [
    "### 📘 Deskripsi Project"
   ]
  },
  {
   "cell_type": "markdown",
   "id": "a8d30325",
   "metadata": {},
   "source": [
    "` - Food Insecurity Experience Scale (FIES) adalah instrumen untuk mengukur kerawanan pangan rumah tangga. Dalam project ini, dilakukan analisis data FIES Aceh tahun 2022 menggunakan Python dengan fokus pada klasifikasi status kerawanan pangan. `"
   ]
  },
  {
   "cell_type": "markdown",
   "id": "4d0f289f",
   "metadata": {},
   "source": [
    "`- Installastion Library`"
   ]
  },
  {
   "cell_type": "code",
   "execution_count": null,
   "id": "058b8ec4",
   "metadata": {},
   "outputs": [
    {
     "name": "stdout",
     "output_type": "stream",
     "text": [
      "Defaulting to user installation because normal site-packages is not writeable\n",
      "Requirement already satisfied: pandas in c:\\users\\lenov\\appdata\\roaming\\python\\python310\\site-packages (2.3.2)\n",
      "Requirement already satisfied: numpy in c:\\users\\lenov\\appdata\\roaming\\python\\python310\\site-packages (2.2.6)\n",
      "Requirement already satisfied: matplotlib in c:\\users\\lenov\\appdata\\roaming\\python\\python310\\site-packages (3.10.6)\n",
      "Requirement already satisfied: seaborn in c:\\users\\lenov\\appdata\\roaming\\python\\python310\\site-packages (0.13.2)\n",
      "Requirement already satisfied: scikit-learn in c:\\users\\lenov\\appdata\\roaming\\python\\python310\\site-packages (1.7.2)\n",
      "Requirement already satisfied: python-dateutil>=2.8.2 in c:\\users\\lenov\\appdata\\roaming\\python\\python310\\site-packages (from pandas) (2.9.0.post0)\n",
      "Requirement already satisfied: tzdata>=2022.7 in c:\\users\\lenov\\appdata\\roaming\\python\\python310\\site-packages (from pandas) (2025.2)\n",
      "Requirement already satisfied: pytz>=2020.1 in c:\\users\\lenov\\appdata\\roaming\\python\\python310\\site-packages (from pandas) (2025.2)\n",
      "Requirement already satisfied: cycler>=0.10 in c:\\users\\lenov\\appdata\\roaming\\python\\python310\\site-packages (from matplotlib) (0.12.1)\n",
      "Requirement already satisfied: kiwisolver>=1.3.1 in c:\\users\\lenov\\appdata\\roaming\\python\\python310\\site-packages (from matplotlib) (1.4.9)\n",
      "Requirement already satisfied: packaging>=20.0 in c:\\users\\lenov\\appdata\\roaming\\python\\python310\\site-packages (from matplotlib) (25.0)\n",
      "Requirement already satisfied: pillow>=8 in c:\\users\\lenov\\appdata\\roaming\\python\\python310\\site-packages (from matplotlib) (11.3.0)\n",
      "Requirement already satisfied: contourpy>=1.0.1 in c:\\users\\lenov\\appdata\\roaming\\python\\python310\\site-packages (from matplotlib) (1.3.2)\n",
      "Requirement already satisfied: fonttools>=4.22.0 in c:\\users\\lenov\\appdata\\roaming\\python\\python310\\site-packages (from matplotlib) (4.59.2)\n",
      "Requirement already satisfied: pyparsing>=2.3.1 in c:\\users\\lenov\\appdata\\roaming\\python\\python310\\site-packages (from matplotlib) (3.2.3)\n",
      "Requirement already satisfied: threadpoolctl>=3.1.0 in c:\\users\\lenov\\appdata\\roaming\\python\\python310\\site-packages (from scikit-learn) (3.6.0)\n",
      "Requirement already satisfied: joblib>=1.2.0 in c:\\users\\lenov\\appdata\\roaming\\python\\python310\\site-packages (from scikit-learn) (1.5.2)\n",
      "Requirement already satisfied: scipy>=1.8.0 in c:\\users\\lenov\\appdata\\roaming\\python\\python310\\site-packages (from scikit-learn) (1.15.3)\n",
      "Requirement already satisfied: six>=1.5 in c:\\users\\lenov\\appdata\\roaming\\python\\python310\\site-packages (from python-dateutil>=2.8.2->pandas) (1.17.0)\n"
     ]
    },
    {
     "name": "stderr",
     "output_type": "stream",
     "text": [
      "\n",
      "[notice] A new release of pip available: 22.2.2 -> 25.2\n",
      "[notice] To update, run: python.exe -m pip install --upgrade pip\n"
     ]
    }
   ],
   "source": [
    "# !pip install pandas numpy matplotlib seaborn scikit-learn"
   ]
  },
  {
   "cell_type": "markdown",
   "id": "034185f2",
   "metadata": {},
   "source": [
    "`Import Library`"
   ]
  },
  {
   "cell_type": "code",
   "execution_count": 3,
   "id": "62646f28",
   "metadata": {},
   "outputs": [],
   "source": [
    "import pandas as pd\n",
    "import numpy as np\n",
    "import matplotlib.pyplot as plt\n",
    "import seaborn as sns\n",
    "from sklearn.model_selection import train_test_split\n",
    "from sklearn.preprocessing import LabelEncoder, StandardScaler\n",
    "from sklearn.ensemble import RandomForestClassifier\n",
    "from sklearn.linear_model import LogisticRegression\n",
    "from sklearn.svm import SVC\n",
    "from sklearn.metrics import accuracy_score, precision_score, recall_score, f1_score, roc_auc_score, roc_curve\n",
    "from sklearn.model_selection import cross_val_score\n",
    "import warnings\n",
    "warnings.filterwarnings('ignore')"
   ]
  },
  {
   "cell_type": "markdown",
   "id": "af25e52c",
   "metadata": {},
   "source": [
    "`- Load Dataset`"
   ]
  },
  {
   "cell_type": "code",
   "execution_count": 5,
   "id": "592c8b6d",
   "metadata": {},
   "outputs": [],
   "source": [
    "df = pd.read_csv('FIES_Aceh2022_999.csv')"
   ]
  }
 ],
 "metadata": {
  "kernelspec": {
   "display_name": "Python 3",
   "language": "python",
   "name": "python3"
  },
  "language_info": {
   "codemirror_mode": {
    "name": "ipython",
    "version": 3
   },
   "file_extension": ".py",
   "mimetype": "text/x-python",
   "name": "python",
   "nbconvert_exporter": "python",
   "pygments_lexer": "ipython3",
   "version": "3.10.8"
  }
 },
 "nbformat": 4,
 "nbformat_minor": 5
}
